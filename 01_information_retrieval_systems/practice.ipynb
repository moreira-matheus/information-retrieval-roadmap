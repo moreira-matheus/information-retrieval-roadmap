{
 "cells": [
  {
   "cell_type": "code",
   "execution_count": 7,
   "metadata": {},
   "outputs": [
    {
     "name": "stdout",
     "output_type": "stream",
     "text": [
      "['but', 'soft', 'what', 'light', 'through', 'yonder', 'window', 'breaks', 'it', 'is', 'the', 'east', 'and', 'juliet', 'is', 'the', 'sun', 'arise', 'fair', 'sun', 'and', 'kill', 'the', 'envious', 'moon', 'who', 'is', 'already', 'sick', 'and', 'pale', 'with', 'grief']\n"
     ]
    }
   ],
   "source": [
    "all_words = []\n",
    "\n",
    "with open(\"romeo.txt\", \"r\", encoding=\"utf-8\") as f:\n",
    "    for line in f.readlines():\n",
    "        words = line.lower().split()\n",
    "        all_words.extend(words)\n",
    "\n",
    "print(all_words)"
   ]
  },
  {
   "cell_type": "markdown",
   "metadata": {},
   "source": [
    "**Methods**"
   ]
  },
  {
   "cell_type": "code",
   "execution_count": 33,
   "metadata": {},
   "outputs": [],
   "source": [
    "def first(term: str, collection: list) -> int:\n",
    "    try:\n",
    "        return collection.index(term)\n",
    "    except ValueError:\n",
    "        return -1\n",
    "\n",
    "def last(term: str, collection: list) -> int:\n",
    "    idx = first(term, collection[::-1])\n",
    "    if idx == -1:\n",
    "        return -1\n",
    "\n",
    "    return len(collection) - idx - 1\n",
    "\n",
    "def next_(term: str, current: int, collection: list) -> int:\n",
    "    if current < 0 or current >= len(collection):\n",
    "        return -1\n",
    "    \n",
    "    return current + first(term, collection[current:])\n",
    "\n",
    "def prev(term: str, current: int, collection: list) -> int:\n",
    "    if current >= len(collection):\n",
    "        return last(term, collection)\n",
    "    if current <= 0:\n",
    "        return -1\n",
    "    \n",
    "    return last(term, collection[:current])"
   ]
  },
  {
   "cell_type": "code",
   "execution_count": 24,
   "metadata": {},
   "outputs": [
    {
     "data": {
      "text/plain": [
       "12"
      ]
     },
     "execution_count": 24,
     "metadata": {},
     "output_type": "execute_result"
    }
   ],
   "source": [
    "first(\"and\", all_words)"
   ]
  },
  {
   "cell_type": "code",
   "execution_count": 23,
   "metadata": {},
   "outputs": [
    {
     "data": {
      "text/plain": [
       "29"
      ]
     },
     "execution_count": 23,
     "metadata": {},
     "output_type": "execute_result"
    }
   ],
   "source": [
    "last(\"and\", all_words)"
   ]
  },
  {
   "cell_type": "code",
   "execution_count": 31,
   "metadata": {},
   "outputs": [
    {
     "data": {
      "text/plain": [
       "20"
      ]
     },
     "execution_count": 31,
     "metadata": {},
     "output_type": "execute_result"
    }
   ],
   "source": [
    "next_(\"and\", first(\"and\", all_words) + 1, all_words)"
   ]
  },
  {
   "cell_type": "code",
   "execution_count": 38,
   "metadata": {},
   "outputs": [
    {
     "data": {
      "text/plain": [
       "20"
      ]
     },
     "execution_count": 38,
     "metadata": {},
     "output_type": "execute_result"
    }
   ],
   "source": [
    "prev(\"and\", last(\"and\", all_words), all_words)"
   ]
  },
  {
   "cell_type": "code",
   "execution_count": 73,
   "metadata": {},
   "outputs": [],
   "source": [
    "def next_phrase_(terms_in_phrase, current, collection):\n",
    "    phrase_length = len(terms_in_phrase)\n",
    "    if phrase_length == 0:\n",
    "        return -1\n",
    "    \n",
    "    offset = next_(terms_in_phrase[0], current, collection)\n",
    "    while offset != -1:\n",
    "        is_match = all(\n",
    "            [collection[offset+j] == terms_in_phrase[j]\\\n",
    "             for j in range(phrase_length)]\n",
    "        )\n",
    "        #alt: is_match = collection[offset:offset+phrase_length] == terms_in_phrase\n",
    "        if is_match:\n",
    "            break\n",
    "\n",
    "        offset = next_(terms_in_phrase[0], offset + phrase_length, collection)\n",
    "    \n",
    "    return offset\n"
   ]
  },
  {
   "cell_type": "code",
   "execution_count": 71,
   "metadata": {},
   "outputs": [
    {
     "data": {
      "text/plain": [
       "8"
      ]
     },
     "execution_count": 71,
     "metadata": {},
     "output_type": "execute_result"
    }
   ],
   "source": [
    "next_phrase_([\"it\", \"is\"], 2, all_words)"
   ]
  },
  {
   "cell_type": "code",
   "execution_count": 74,
   "metadata": {},
   "outputs": [
    {
     "data": {
      "text/plain": [
       "-1"
      ]
     },
     "execution_count": 74,
     "metadata": {},
     "output_type": "execute_result"
    }
   ],
   "source": [
    "next_phrase_([\"it\", \"is\"], 10, all_words)"
   ]
  },
  {
   "cell_type": "code",
   "execution_count": null,
   "metadata": {},
   "outputs": [],
   "source": []
  }
 ],
 "metadata": {
  "kernelspec": {
   "display_name": "Python 3",
   "language": "python",
   "name": "python3"
  },
  "language_info": {
   "codemirror_mode": {
    "name": "ipython",
    "version": 3
   },
   "file_extension": ".py",
   "mimetype": "text/x-python",
   "name": "python",
   "nbconvert_exporter": "python",
   "pygments_lexer": "ipython3",
   "version": "3.8.10"
  }
 },
 "nbformat": 4,
 "nbformat_minor": 2
}
